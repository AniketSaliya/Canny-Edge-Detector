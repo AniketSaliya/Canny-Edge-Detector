{
 "cells": [
  {
   "cell_type": "code",
   "execution_count": 1,
   "id": "edadd21b",
   "metadata": {},
   "outputs": [],
   "source": [
    "import pickle as pkl\n",
    "import numpy as np\n",
    "import cv2\n",
    "from PIL import Image as im\n",
    "import math"
   ]
  },
  {
   "cell_type": "markdown",
   "id": "8e780dbc",
   "metadata": {},
   "source": [
    "## Step 1 : Gaussian smoothing"
   ]
  },
  {
   "cell_type": "code",
   "execution_count": 2,
   "id": "e83bf1c8",
   "metadata": {},
   "outputs": [],
   "source": [
    "# This function is used to load Masks from .pkl files\n",
    "def loadMask(path,lable):  \n",
    "    with open(path, 'rb') as f:\n",
    "        mask = pkl.load(f)\n",
    "        print(lable+\" :\\n\",mask)\n",
    "        return mask"
   ]
  },
  {
   "cell_type": "code",
   "execution_count": 3,
   "id": "6b253c09",
   "metadata": {},
   "outputs": [],
   "source": [
    " \"\"\"This function loads image and converts 3 channel image to \n",
    "    single channel grayscale image\"\"\"\n",
    "def load_img(path):  \n",
    "    img=im.open('Images/Test_patterns.bmp')\n",
    "    img=img.convert('L')\n",
    "    img=np.asarray(img)\n",
    "    return img"
   ]
  },
  {
   "cell_type": "code",
   "execution_count": 4,
   "id": "6b5e76b9",
   "metadata": {},
   "outputs": [],
   "source": [
    "def display_Img(img,lable=\"Img\"): # function to Display an Image \n",
    "    img=np.uint8(img)\n",
    "    cv2.imshow(lable,img)\n",
    "    cv2.waitKey(0)\n",
    "    cv2.destroyAllWindows()\n",
    "    #data = im.fromarray(img) # to save Image\n",
    "    #data.save(lable+'.bmp')"
   ]
  },
  {
   "cell_type": "code",
   "execution_count": 5,
   "id": "34ab08a3",
   "metadata": {},
   "outputs": [],
   "source": [
    "\"\"\"This function takes Image, Gaussian Mask and returns \n",
    "   Gaussian smoothed image\"\"\"\n",
    "def apply_Gaussian_mask(oldImg,mask,normalize_factor=1):\n",
    "    ( h , w ) = oldImg.shape\n",
    "    normalize_factor=np.sum(mask) \n",
    "    # Normalize factor is sum of the vaues of the Gaussian mask\n",
    "    newImg = np.zeros( ( h , w ), dtype = np.int32 )\n",
    "    P = ( mask[0].size//2 ) \n",
    "    for j in range( P , h - P ):\n",
    "        for i in range( P , w - P ):\n",
    "            value = 0\n",
    "            for k in range( -P , P+1 ):\n",
    "                for l in range( -P , P+1 ):\n",
    "                    value += mask[k+P][l+P] * oldImg[j+k][i+l] \n",
    "            newImg[j][i] = value//normalize_factor \n",
    "            # here normalization by dividing pixel value with Normalize factor is performed simultaneously.\n",
    "    return ( newImg , P )"
   ]
  },
  {
   "cell_type": "code",
   "execution_count": 6,
   "id": "7bb228b5",
   "metadata": {},
   "outputs": [],
   "source": [
    "def Gaussian_smoothing(path):\n",
    "    # loading Gaussian Mask from .pkl file\n",
    "    Gaussian_mask = loadMask('Pickle/Gaussian_mask.pkl','Gaussian Mask') \n",
    "    Img = load_img(path) # Loading Image\n",
    "    # Smoothing Image using Gaussian filter    \n",
    "    ( Img , pedding ) = apply_Gaussian_mask( Img , Gaussian_mask ) \n",
    "    return (Img , pedding)"
   ]
  },
  {
   "cell_type": "code",
   "execution_count": 7,
   "id": "52665916",
   "metadata": {},
   "outputs": [
    {
     "name": "stdout",
     "output_type": "stream",
     "text": [
      "Gaussian Mask :\n",
      " [[ 1  1  2  2  2  1  1]\n",
      " [ 1  2  2  4  2  2  1]\n",
      " [ 2  2  4  8  4  2  2]\n",
      " [ 2  4  8 16  8  4  2]\n",
      " [ 2  2  4  8  4  2  2]\n",
      " [ 1  2  2  4  2  2  1]\n",
      " [ 1  1  2  2  2  1  1]]\n"
     ]
    }
   ],
   "source": [
    "( Image , pedding ) = Gaussian_smoothing('Images/House.bmp')\n",
    "display_Img(Image,\"Gaussian smoothed\") # Displaying smoothed image "
   ]
  },
  {
   "cell_type": "markdown",
   "id": "2f1d3dc0",
   "metadata": {},
   "source": [
    "## Step 2: Gradient Operation\n"
   ]
  },
  {
   "cell_type": "code",
   "execution_count": 8,
   "id": "cfa7ce59",
   "metadata": {},
   "outputs": [],
   "source": [
    "\"\"\"This function is used to apply operators like \n",
    "   prewitt,Robert on an Image\"\"\"\n",
    "def apply_mask(oldImg,mask,pedding=0): \n",
    "    ( h , w ) = oldImg.shape\n",
    "    newImg = np.zeros( ( h , w ), dtype = np.int32 )\n",
    "    P = ( mask[0].size//2 ) \n",
    "    for j in range( (P + pedding) , h - (P + pedding) ):\n",
    "        for i in range( (P + pedding) , w - (P + pedding) ):\n",
    "            value = 0\n",
    "            for k in range( -P , P+1 ):\n",
    "                for l in range( -P , P+1 ):\n",
    "                    value += mask[k+P][l+P] * oldImg[j+k][i+l]\n",
    "            newImg[j][i] = value\n",
    "    return ( newImg , P + pedding )"
   ]
  },
  {
   "cell_type": "code",
   "execution_count": 9,
   "id": "a1b1bdbf",
   "metadata": {},
   "outputs": [],
   "source": [
    "# In Normalization, pixel values are rescale to 0-255 range\n",
    "def Normalization(img): \n",
    "    img=np.absolute(img)\n",
    "    img=img/img.max()*255\n",
    "    return img"
   ]
  },
  {
   "cell_type": "code",
   "execution_count": 10,
   "id": "cedcf481",
   "metadata": {},
   "outputs": [],
   "source": [
    "\"\"\"Function to calculate gradient magnitude from horizontal \n",
    "   and vertical gradient\"\"\"\n",
    "def gradient_magnitude(gx,gy): \n",
    "    ( h , w ) = gx.shape\n",
    "    grad_mag = np.zeros( ( h , w ), dtype = np.uint32 )\n",
    "    for j in range(h):\n",
    "        for i in range(w):\n",
    "            grad_mag[j][i]= abs(gx[j][i])+abs(gy[j][i])\n",
    "    return grad_mag"
   ]
  },
  {
   "cell_type": "code",
   "execution_count": 11,
   "id": "abcac6c7",
   "metadata": {},
   "outputs": [],
   "source": [
    "# Function to calculate gradient angle from horizontal and vertical gradient\n",
    "def gradient_angle(gx,gy): \n",
    "    ( h , w ) = gx.shape\n",
    "    grad_ang = np.zeros( ( h , w ), dtype = np.float32 )\n",
    "    for j in range(h):\n",
    "        for i in range(w):\n",
    "            if gx[j][i] != 0:\n",
    "                grad_ang[j][i]= math.degrees( math.atan(gy[j][i]/gx[j][i]) )\n",
    "    return grad_ang"
   ]
  },
  {
   "cell_type": "code",
   "execution_count": 21,
   "id": "87a41dec",
   "metadata": {},
   "outputs": [],
   "source": [
    "def sector(grad_ang,pedding=0): # Function to calculate sector value from gradient angle\n",
    "    ( h , w ) = grad_ang.shape\n",
    "    sec= np.zeros( ( h , w ), dtype = np.uint8 )\n",
    "    for j in range( (1 + pedding) , h - (1 + pedding) ):\n",
    "        for i in range( (1 + pedding) , w - (1 + pedding) ):\n",
    "            Ang = grad_ang[j][i]\n",
    "            if ( (Ang >= 0 and Ang < 22.5) or (Ang >= 337.5 and Ang <= 360) or \n",
    "                (Ang >= 157.5 and Ang < 202.5) ):\n",
    "                sec[j][i]=0\n",
    "            elif ((Ang >= 22.5 and Ang < 67.5) or (Ang >= 202.5 and Ang < 247.5)):\n",
    "                sec[j][i]=1\n",
    "            elif ((Ang >= 67.5 and Ang < 112.5) or (Ang >= 247.5 and Ang < 292.5)):\n",
    "                sec[j][i]=2\n",
    "            elif ((Ang >= 112.5 and Ang < 157.5) or (Ang >= 292.5 and Ang < 337.5)):\n",
    "                sec[j][i]=3\n",
    "    return sec"
   ]
  },
  {
   "cell_type": "code",
   "execution_count": 13,
   "id": "f09bc160",
   "metadata": {},
   "outputs": [],
   "source": [
    "def Gradient_Operation( Image , pedding ):\n",
    "    # loading Prewitt X derivative from .pkl file\n",
    "    Prewitt_X = loadMask('Pickle/prewitt-x.pkl','Prewitt X derivative') \n",
    "    # loading Prewitt Y derivative from .pkl file\n",
    "    Prewitt_Y = loadMask('Pickle/prewitt-y.pkl','Prewitt Y derivative') \n",
    "    \n",
    "    (Gx , _ ) = apply_mask(Image,Prewitt_X,pedding) # Calculating horizontal gradient \n",
    "    Gx=Normalization(Gx)  # Normalizing horizontal gradient image\n",
    "    \n",
    "    (Gy , pedding ) = apply_mask(Image,Prewitt_Y,pedding) #Calculating vertical gradient\n",
    "    Gy=Normalization(Gy)  # Normalizing vertical gradient image\n",
    "    \n",
    "    Grad_Mag=gradient_magnitude(Gx,Gy) # Calculating gradient magnitude \n",
    "    Grad_Mag=Normalization(Grad_Mag) # Normalizing gradient magnitude image\n",
    "    \n",
    "    Grad_Ang = gradient_angle(Gx,Gy) # Calculating gradient angle\n",
    "    \n",
    "    Sector=sector(Grad_Ang,pedding) # Calculating sector value from gradient angle\n",
    "    \n",
    "    return ( Gx , Gy , Grad_Mag , Grad_Ang , Sector , pedding )"
   ]
  },
  {
   "cell_type": "code",
   "execution_count": 14,
   "id": "d57be4e4",
   "metadata": {},
   "outputs": [
    {
     "name": "stdout",
     "output_type": "stream",
     "text": [
      "Prewitt X derivative :\n",
      " [[-1  0  1]\n",
      " [-1  0  1]\n",
      " [-1  0  1]]\n",
      "Prewitt Y derivative :\n",
      " [[ 1  1  1]\n",
      " [ 0  0  0]\n",
      " [-1 -1 -1]]\n"
     ]
    }
   ],
   "source": [
    "( Gx , Gy , Grad_Mag , Grad_Ang , Sector , pedding ) = Gradient_Operation( Image , pedding )\n",
    "display_Img(Gx,\"Gx\") # displaying horizontal gradient   \n",
    "display_Img(Gy,\"Gy\") # displaying vertical gradient\n",
    "display_Img(Grad_Mag,\"Gradient Mangitude\") # displaying gradient magnitude"
   ]
  },
  {
   "cell_type": "markdown",
   "id": "b57309a9",
   "metadata": {},
   "source": [
    "## Step 3: Non-maxima Suppression"
   ]
  },
  {
   "cell_type": "code",
   "execution_count": 15,
   "id": "dec0b421",
   "metadata": {},
   "outputs": [],
   "source": [
    "def NMS(grad_mag,sec,pedding=0): # Applying NMS on Gradient Mangitude with the help of sector value\n",
    "    ( h , w ) = grad_mag.shape\n",
    "    nms_img = np.zeros( ( h , w ), dtype = np.uint8 )\n",
    "    for j in range( (1 + pedding) , h - (1 + pedding) ):\n",
    "        for i in range( (1 + pedding) , w - (1 + pedding) ):\n",
    "            if( sec[j][i] == 0 ):\n",
    "                m=0 \n",
    "                n=1\n",
    "            elif( sec[j][i] == 1 ):\n",
    "                m=-1 \n",
    "                n=1\n",
    "            elif( sec[j][i] == 2 ):\n",
    "                m=1 \n",
    "                n=0\n",
    "            elif( sec[j][i] == 3 ):\n",
    "                m=1 \n",
    "                n=1\n",
    "            if(grad_mag[j][i]>grad_mag[j-m][i-n] and grad_mag[j][i]>grad_mag[j+m][i+n]):\n",
    "                nms_img[j][i] = grad_mag[j][i]\n",
    "    return nms_img"
   ]
  },
  {
   "cell_type": "code",
   "execution_count": 16,
   "id": "903161d6",
   "metadata": {},
   "outputs": [],
   "source": [
    "Img_NMS=NMS(Grad_Mag,Sector,pedding)\n",
    "display_Img(Img_NMS,\"NMS\") # displaying NMS image"
   ]
  },
  {
   "cell_type": "markdown",
   "id": "9eb3616a",
   "metadata": {},
   "source": [
    "## Step 4: Thresholding"
   ]
  },
  {
   "cell_type": "code",
   "execution_count": 17,
   "id": "0ea63f4e",
   "metadata": {},
   "outputs": [],
   "source": [
    "# Applying binary thresolding by calculating pixel value for nth percentile as a threshold value\n",
    "def thresholding(img,percentile): \n",
    "    ( h , w ) = img.shape\n",
    "    Output = np.zeros( ( h , w ), dtype = np.uint8 )\n",
    "    A = np.empty(np.count_nonzero(img)) # counting none zero values\n",
    "    k=0\n",
    "    for j in range(h):\n",
    "        for i in range(w):\n",
    "            if img[j][i]>0:\n",
    "                A[k] = img[j][i]\n",
    "                k=k+1\n",
    "    t=np.percentile(A, percentile)\n",
    "    for j in range(h):\n",
    "        for i in range(w):\n",
    "            if img[j][i]>t:\n",
    "                Output[j][i]=255\n",
    "    return Output"
   ]
  },
  {
   "cell_type": "code",
   "execution_count": 18,
   "id": "1a13a7c0",
   "metadata": {},
   "outputs": [],
   "source": [
    "Img_25 = thresholding(Img_NMS,25) #25th percentile value as threshold\n",
    "display_Img(Img_25,\"25th percentile\")"
   ]
  },
  {
   "cell_type": "code",
   "execution_count": 19,
   "id": "c00885eb",
   "metadata": {},
   "outputs": [],
   "source": [
    "Img_50 = thresholding(Img_NMS,50) #50th percentile value as threshold\n",
    "display_Img(Img_50,\"50th percentile\")"
   ]
  },
  {
   "cell_type": "code",
   "execution_count": 20,
   "id": "dc01cf47",
   "metadata": {},
   "outputs": [],
   "source": [
    "Img_75 = thresholding(Img_NMS,75) #75th percentile value as threshold\n",
    "display_Img(Img_75,\"75th percentile\")"
   ]
  }
 ],
 "metadata": {
  "kernelspec": {
   "display_name": "Python 3",
   "language": "python",
   "name": "python3"
  },
  "language_info": {
   "codemirror_mode": {
    "name": "ipython",
    "version": 3
   },
   "file_extension": ".py",
   "mimetype": "text/x-python",
   "name": "python",
   "nbconvert_exporter": "python",
   "pygments_lexer": "ipython3",
   "version": "3.6.13"
  }
 },
 "nbformat": 4,
 "nbformat_minor": 5
}
